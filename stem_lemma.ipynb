{
  "nbformat": 4,
  "nbformat_minor": 0,
  "metadata": {
    "colab": {
      "name": "stem_lemma.ipynb",
      "version": "0.3.2",
      "provenance": [],
      "include_colab_link": true
    },
    "kernelspec": {
      "name": "python3",
      "display_name": "Python 3"
    }
  },
  "cells": [
    {
      "cell_type": "markdown",
      "metadata": {
        "id": "view-in-github",
        "colab_type": "text"
      },
      "source": [
        "<a href=\"https://colab.research.google.com/github/sheldoncooper07/Machine-Learning/blob/master/stem_lemma.ipynb\" target=\"_parent\"><img src=\"https://colab.research.google.com/assets/colab-badge.svg\" alt=\"Open In Colab\"/></a>"
      ]
    },
    {
      "cell_type": "code",
      "metadata": {
        "id": "3hX_gLsNckvx",
        "colab_type": "code",
        "colab": {}
      },
      "source": [
        "from nltk import stem\n",
        "from nltk.stem import PorterStemmer #for stemming\n",
        "from nltk.stem import WordNetLemmatizer #for lemma\n",
        "import time"
      ],
      "execution_count": 0,
      "outputs": []
    },
    {
      "cell_type": "code",
      "metadata": {
        "id": "6aGoXhekdOvT",
        "colab_type": "code",
        "colab": {}
      },
      "source": [
        "#stemming\n",
        "port=PorterStemmer()"
      ],
      "execution_count": 0,
      "outputs": []
    },
    {
      "cell_type": "code",
      "metadata": {
        "id": "V299ZdNTdZYa",
        "colab_type": "code",
        "colab": {
          "base_uri": "https://localhost:8080/",
          "height": 134
        },
        "outputId": "67f0c37c-1ffc-483c-d335-6c9b48af8764"
      },
      "source": [
        "#word suppy\n",
        "for i in ['going','goes','go','gone','intelligent','intelligency','intelligently']:\n",
        "  print(port.stem(i))\n",
        "  time.sleep(1)\n",
        "  "
      ],
      "execution_count": 6,
      "outputs": [
        {
          "output_type": "stream",
          "text": [
            "go\n",
            "goe\n",
            "go\n",
            "gone\n",
            "intellig\n",
            "intellig\n",
            "intellig\n"
          ],
          "name": "stdout"
        }
      ]
    },
    {
      "cell_type": "code",
      "metadata": {
        "id": "x3oQmfaweQwR",
        "colab_type": "code",
        "colab": {}
      },
      "source": [
        ""
      ],
      "execution_count": 0,
      "outputs": []
    }
  ]
}