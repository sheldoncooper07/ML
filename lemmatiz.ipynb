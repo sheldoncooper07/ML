{
  "nbformat": 4,
  "nbformat_minor": 0,
  "metadata": {
    "colab": {
      "name": "lemmatiz.ipynb",
      "version": "0.3.2",
      "provenance": [],
      "collapsed_sections": [],
      "include_colab_link": true
    },
    "kernelspec": {
      "name": "python3",
      "display_name": "Python 3"
    }
  },
  "cells": [
    {
      "cell_type": "markdown",
      "metadata": {
        "id": "view-in-github",
        "colab_type": "text"
      },
      "source": [
        "<a href=\"https://colab.research.google.com/github/sheldoncooper07/Machine-Learning/blob/master/lemmatiz.ipynb\" target=\"_parent\"><img src=\"https://colab.research.google.com/assets/colab-badge.svg\" alt=\"Open In Colab\"/></a>"
      ]
    },
    {
      "cell_type": "code",
      "metadata": {
        "id": "_6pYHlq5ZjJs",
        "colab_type": "code",
        "colab": {}
      },
      "source": [
        "import spacy\n"
      ],
      "execution_count": 0,
      "outputs": []
    },
    {
      "cell_type": "code",
      "metadata": {
        "id": "RskCAWcwZtjr",
        "colab_type": "code",
        "colab": {}
      },
      "source": [
        "#language english\n",
        "nlp=spacy.load('en')"
      ],
      "execution_count": 0,
      "outputs": []
    },
    {
      "cell_type": "code",
      "metadata": {
        "id": "N_s4lIg9d0dh",
        "colab_type": "code",
        "colab": {}
      },
      "source": [
        "data=\"hello world i am going outside for playing cricket\""
      ],
      "execution_count": 0,
      "outputs": []
    },
    {
      "cell_type": "code",
      "metadata": {
        "id": "-6z7U0useW-r",
        "colab_type": "code",
        "colab": {}
      },
      "source": [
        "new_data=nlp(data) #automatic tokenise"
      ],
      "execution_count": 0,
      "outputs": []
    },
    {
      "cell_type": "code",
      "metadata": {
        "id": "eWJ7xQkcegKN",
        "colab_type": "code",
        "colab": {
          "base_uri": "https://localhost:8080/",
          "height": 470
        },
        "outputId": "2e557013-0e20-4fcd-e642-fa81a9d350a3"
      },
      "source": [
        "for i in new_data:\n",
        "  print(i,\"lemmatization of word is --------->\",i.lemma_)\n",
        "  print(\"#################\")\n",
        "  print(i,\"POS\",i.pos_)"
      ],
      "execution_count": 11,
      "outputs": [
        {
          "output_type": "stream",
          "text": [
            "hello lemmatization of word is ---------> hello\n",
            "#################\n",
            "hello POS INTJ\n",
            "world lemmatization of word is ---------> world\n",
            "#################\n",
            "world POS NOUN\n",
            "i lemmatization of word is ---------> i\n",
            "#################\n",
            "i POS PRON\n",
            "am lemmatization of word is ---------> be\n",
            "#################\n",
            "am POS VERB\n",
            "going lemmatization of word is ---------> go\n",
            "#################\n",
            "going POS VERB\n",
            "outside lemmatization of word is ---------> outside\n",
            "#################\n",
            "outside POS ADV\n",
            "for lemmatization of word is ---------> for\n",
            "#################\n",
            "for POS ADP\n",
            "playing lemmatization of word is ---------> play\n",
            "#################\n",
            "playing POS VERB\n",
            "cricket lemmatization of word is ---------> cricket\n",
            "#################\n",
            "cricket POS NOUN\n"
          ],
          "name": "stdout"
        }
      ]
    },
    {
      "cell_type": "code",
      "metadata": {
        "id": "LNEbsH9kejEW",
        "colab_type": "code",
        "colab": {}
      },
      "source": [
        ""
      ],
      "execution_count": 0,
      "outputs": []
    }
  ]
}