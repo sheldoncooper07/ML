{
  "nbformat": 4,
  "nbformat_minor": 0,
  "metadata": {
    "colab": {
      "name": "CNNBook.ipynb",
      "version": "0.3.2",
      "provenance": [],
      "collapsed_sections": [],
      "include_colab_link": true
    },
    "kernelspec": {
      "name": "python3",
      "display_name": "Python 3"
    }
  },
  "cells": [
    {
      "cell_type": "markdown",
      "metadata": {
        "id": "view-in-github",
        "colab_type": "text"
      },
      "source": [
        "<a href=\"https://colab.research.google.com/github/sheldoncooper07/Machine-Learning/blob/master/CNNBook.ipynb\" target=\"_parent\"><img src=\"https://colab.research.google.com/assets/colab-badge.svg\" alt=\"Open In Colab\"/></a>"
      ]
    },
    {
      "cell_type": "code",
      "metadata": {
        "id": "u7vOudFBXYe1",
        "colab_type": "code",
        "colab": {}
      },
      "source": [
        "#importing all the modules required for cnn creation\n",
        "import keras"
      ],
      "execution_count": 0,
      "outputs": []
    },
    {
      "cell_type": "code",
      "metadata": {
        "id": "VDJPyYhVX208",
        "colab_type": "code",
        "colab": {}
      },
      "source": [
        "#convolution model\n",
        "from keras.layers import Convolution2D"
      ],
      "execution_count": 0,
      "outputs": []
    },
    {
      "cell_type": "code",
      "metadata": {
        "id": "pjqxGglPYMDL",
        "colab_type": "code",
        "colab": {}
      },
      "source": [
        "#max polling\n",
        "from keras.layers import MaxPool2D"
      ],
      "execution_count": 0,
      "outputs": []
    },
    {
      "cell_type": "code",
      "metadata": {
        "id": "JwNQAY5NYWO9",
        "colab_type": "code",
        "colab": {}
      },
      "source": [
        "#flantenning\n",
        "from keras.layers import Flatten"
      ],
      "execution_count": 0,
      "outputs": []
    },
    {
      "cell_type": "code",
      "metadata": {
        "id": "ejvQOO-SYm2u",
        "colab_type": "code",
        "colab": {}
      },
      "source": [
        "#ANN importing\n",
        "from keras.models import Sequential\n",
        "from keras.layers import Dense"
      ],
      "execution_count": 0,
      "outputs": []
    },
    {
      "cell_type": "code",
      "metadata": {
        "id": "6wubBcsFZDRp",
        "colab_type": "code",
        "colab": {}
      },
      "source": [
        "#classifier model\n",
        "model=Sequential()"
      ],
      "execution_count": 0,
      "outputs": []
    },
    {
      "cell_type": "code",
      "metadata": {
        "id": "e_E7etmcZHzh",
        "colab_type": "code",
        "colab": {
          "base_uri": "https://localhost:8080/",
          "height": 72
        },
        "outputId": "433049a6-3e97-47fb-a100-3e2834b36af0"
      },
      "source": [
        "#creating convulation layerunder model namespace\n",
        "model.add(Convolution2D(64,3,3,activation='relu',input_shape=(128,128,3)))\n",
        "#no. of features extract from original image during convolution---3,3 --activation ,image dimension"
      ],
      "execution_count": 21,
      "outputs": [
        {
          "output_type": "stream",
          "text": [
            "/usr/local/lib/python3.6/dist-packages/ipykernel_launcher.py:1: UserWarning: Update your `Conv2D` call to the Keras 2 API: `Conv2D(64, (3, 3), activation=\"relu\", input_shape=(128, 128,...)`\n",
            "  \"\"\"Entry point for launching an IPython kernel.\n"
          ],
          "name": "stderr"
        }
      ]
    },
    {
      "cell_type": "code",
      "metadata": {
        "id": "3Jn2lg5nb8pr",
        "colab_type": "code",
        "colab": {}
      },
      "source": [
        "#now we can apply max polling in feature maps\n",
        "model.add(MaxPool2D(pool_size=(2,2)))"
      ],
      "execution_count": 0,
      "outputs": []
    },
    {
      "cell_type": "code",
      "metadata": {
        "id": "nZmOGCP2dpqc",
        "colab_type": "code",
        "colab": {}
      },
      "source": [
        "#here output will be a ssubobject\n",
        "#then we can apply flatenning\n",
        "model.add(Flatten()) #we dont have  to supply any paramter\n",
        "#can use this as input"
      ],
      "execution_count": 0,
      "outputs": []
    },
    {
      "cell_type": "code",
      "metadata": {
        "id": "PUkeNfQeeQwm",
        "colab_type": "code",
        "colab": {}
      },
      "source": [
        "model.add(Dense(128,activation='sigmoid'))"
      ],
      "execution_count": 0,
      "outputs": []
    },
    {
      "cell_type": "code",
      "metadata": {
        "id": "x1RkZX9hj-8H",
        "colab_type": "code",
        "colab": {}
      },
      "source": [
        ""
      ],
      "execution_count": 0,
      "outputs": []
    }
  ]
}