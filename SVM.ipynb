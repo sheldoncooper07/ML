{
  "nbformat": 4,
  "nbformat_minor": 0,
  "metadata": {
    "colab": {
      "name": "SVM.ipynb",
      "version": "0.3.2",
      "provenance": [],
      "collapsed_sections": [],
      "include_colab_link": true
    },
    "kernelspec": {
      "name": "python3",
      "display_name": "Python 3"
    }
  },
  "cells": [
    {
      "cell_type": "markdown",
      "metadata": {
        "id": "view-in-github",
        "colab_type": "text"
      },
      "source": [
        "<a href=\"https://colab.research.google.com/github/sheldoncooper07/Machine-Learning/blob/master/SVM.ipynb\" target=\"_parent\"><img src=\"https://colab.research.google.com/assets/colab-badge.svg\" alt=\"Open In Colab\"/></a>"
      ]
    },
    {
      "cell_type": "code",
      "metadata": {
        "id": "8_0CkqJcMRgR",
        "colab_type": "code",
        "colab": {}
      },
      "source": [
        "from sklearn.datasets import load_digits"
      ],
      "execution_count": 0,
      "outputs": []
    },
    {
      "cell_type": "code",
      "metadata": {
        "id": "KJy_ZGu9MUU6",
        "colab_type": "code",
        "colab": {}
      },
      "source": [
        "digit=load_digits()\n"
      ],
      "execution_count": 0,
      "outputs": []
    },
    {
      "cell_type": "code",
      "metadata": {
        "id": "SgvEKA6UMaeI",
        "colab_type": "code",
        "colab": {
          "base_uri": "https://localhost:8080/",
          "height": 33
        },
        "outputId": "78fb3df3-49f6-45e7-a77c-90452a7c21db"
      },
      "source": [
        "dir(digit)"
      ],
      "execution_count": 3,
      "outputs": [
        {
          "output_type": "execute_result",
          "data": {
            "text/plain": [
              "['DESCR', 'data', 'images', 'target', 'target_names']"
            ]
          },
          "metadata": {
            "tags": []
          },
          "execution_count": 3
        }
      ]
    },
    {
      "cell_type": "code",
      "metadata": {
        "id": "lAvOPob7Mcg9",
        "colab_type": "code",
        "colab": {}
      },
      "source": [
        "features=digit.data"
      ],
      "execution_count": 0,
      "outputs": []
    },
    {
      "cell_type": "code",
      "metadata": {
        "id": "ILrj_zXSMhNR",
        "colab_type": "code",
        "colab": {}
      },
      "source": [
        "label=digit.target"
      ],
      "execution_count": 0,
      "outputs": []
    },
    {
      "cell_type": "code",
      "metadata": {
        "id": "SJplHfhbMmMO",
        "colab_type": "code",
        "colab": {}
      },
      "source": [
        "from sklearn.model_selection import train_test_split\n",
        "X,x,Y,y=train_test_split(features,label,test_size=0.2)"
      ],
      "execution_count": 0,
      "outputs": []
    },
    {
      "cell_type": "code",
      "metadata": {
        "id": "eI1Y0EiaNAjW",
        "colab_type": "code",
        "colab": {}
      },
      "source": [
        "import matplotlib.pyplot as plt"
      ],
      "execution_count": 0,
      "outputs": []
    },
    {
      "cell_type": "code",
      "metadata": {
        "id": "CNmvYgnkNEXZ",
        "colab_type": "code",
        "colab": {
          "base_uri": "https://localhost:8080/",
          "height": 286
        },
        "outputId": "6d9e224c-2cfe-4fef-d80e-7c433219a6a0"
      },
      "source": [
        "plt.imshow(digit.images[0])"
      ],
      "execution_count": 8,
      "outputs": [
        {
          "output_type": "execute_result",
          "data": {
            "text/plain": [
              "<matplotlib.image.AxesImage at 0x7fc02e8e9ac8>"
            ]
          },
          "metadata": {
            "tags": []
          },
          "execution_count": 8
        },
        {
          "output_type": "display_data",
          "data": {
            "image/png": "[encoded data removed]",
            "text/plain": [
              "<Figure size 432x288 with 1 Axes>"
            ]
          },
          "metadata": {
            "tags": []
          }
        }
      ]
    },
    {
      "cell_type": "code",
      "metadata": {
        "id": "QzSAoZ-pNK77",
        "colab_type": "code",
        "colab": {}
      },
      "source": [
        "from sklearn.svm import SVC"
      ],
      "execution_count": 0,
      "outputs": []
    },
    {
      "cell_type": "code",
      "metadata": {
        "id": "g7yRJh1SNcwX",
        "colab_type": "code",
        "colab": {}
      },
      "source": [
        "clf=SVC()"
      ],
      "execution_count": 0,
      "outputs": []
    },
    {
      "cell_type": "code",
      "metadata": {
        "id": "ZDHJmcTAPCkk",
        "colab_type": "code",
        "colab": {
          "base_uri": "https://localhost:8080/",
          "height": 70
        },
        "outputId": "e1dff48a-e405-433c-da69-dc2d2302998c"
      },
      "source": [
        "trained=clf.fit(X,Y)"
      ],
      "execution_count": 11,
      "outputs": [
        {
          "output_type": "stream",
          "text": [
            "/usr/local/lib/python3.6/dist-packages/sklearn/svm/base.py:193: FutureWarning: The default value of gamma will change from 'auto' to 'scale' in version 0.22 to account better for unscaled features. Set gamma explicitly to 'auto' or 'scale' to avoid this warning.\n",
            "  \"avoid this warning.\", FutureWarning)\n"
          ],
          "name": "stderr"
        }
      ]
    },
    {
      "cell_type": "code",
      "metadata": {
        "id": "5474JkBdPHb5",
        "colab_type": "code",
        "colab": {
          "base_uri": "https://localhost:8080/",
          "height": 301
        },
        "outputId": "50825b8b-026d-40ae-d357-5df5524e48fc"
      },
      "source": [
        "output=trained.predict(x)\n",
        "output"
      ],
      "execution_count": 12,
      "outputs": [
        {
          "output_type": "execute_result",
          "data": {
            "text/plain": [
              "array([5, 5, 6, 3, 5, 3, 5, 2, 5, 4, 5, 5, 5, 1, 5, 5, 0, 6, 3, 5, 5, 5,\n",
              "       3, 5, 5, 5, 0, 5, 5, 5, 5, 3, 5, 5, 5, 5, 0, 5, 5, 0, 5, 4, 4, 5,\n",
              "       1, 5, 5, 5, 3, 7, 5, 6, 2, 5, 5, 5, 5, 5, 9, 7, 5, 3, 5, 1, 4, 0,\n",
              "       5, 7, 5, 1, 5, 5, 5, 3, 2, 5, 5, 3, 5, 5, 5, 5, 0, 4, 5, 5, 0, 5,\n",
              "       5, 0, 5, 0, 3, 3, 5, 5, 5, 5, 3, 5, 6, 5, 6, 2, 1, 7, 7, 3, 5, 6,\n",
              "       5, 5, 3, 3, 5, 2, 5, 5, 5, 1, 6, 5, 5, 5, 5, 4, 0, 5, 5, 5, 5, 1,\n",
              "       5, 5, 4, 3, 5, 9, 4, 5, 3, 4, 5, 5, 5, 7, 2, 1, 5, 5, 0, 5, 5, 5,\n",
              "       5, 6, 5, 0, 5, 4, 5, 5, 2, 6, 5, 4, 5, 5, 5, 1, 5, 5, 5, 5, 5, 0,\n",
              "       5, 5, 5, 5, 5, 5, 5, 9, 5, 5, 5, 5, 5, 5, 5, 9, 5, 6, 5, 5, 1, 5,\n",
              "       3, 5, 5, 5, 7, 7, 3, 5, 5, 5, 5, 5, 0, 1, 6, 4, 5, 5, 5, 5, 4, 3,\n",
              "       5, 5, 6, 5, 6, 5, 2, 2, 4, 0, 4, 7, 5, 3, 5, 5, 5, 7, 5, 5, 5, 5,\n",
              "       5, 5, 6, 5, 5, 4, 0, 5, 1, 5, 4, 9, 5, 7, 5, 5, 5, 5, 5, 1, 5, 4,\n",
              "       5, 7, 7, 6, 5, 5, 5, 7, 3, 5, 5, 5, 3, 5, 5, 3, 5, 5, 5, 5, 5, 5,\n",
              "       0, 5, 5, 5, 5, 5, 5, 5, 9, 5, 4, 9, 6, 4, 0, 1, 0, 2, 5, 5, 5, 5,\n",
              "       5, 3, 5, 5, 5, 5, 5, 5, 8, 5, 5, 5, 5, 5, 5, 7, 6, 5, 8, 5, 5, 7,\n",
              "       6, 5, 5, 6, 5, 7, 5, 5, 5, 3, 5, 2, 5, 5, 1, 5, 5, 7, 5, 3, 0, 5,\n",
              "       6, 3, 1, 3, 8, 5, 1, 5])"
            ]
          },
          "metadata": {
            "tags": []
          },
          "execution_count": 12
        }
      ]
    },
    {
      "cell_type": "code",
      "metadata": {
        "id": "e2diq0WkPXj9",
        "colab_type": "code",
        "colab": {
          "base_uri": "https://localhost:8080/",
          "height": 301
        },
        "outputId": "4e037a3d-e628-426f-9b3c-2908e2771c2d"
      },
      "source": [
        "y\n"
      ],
      "execution_count": 16,
      "outputs": [
        {
          "output_type": "execute_result",
          "data": {
            "text/plain": [
              "array([4, 9, 6, 3, 8, 3, 9, 2, 9, 4, 9, 8, 8, 1, 5, 8, 0, 6, 3, 9, 7, 5,\n",
              "       3, 8, 4, 2, 0, 0, 5, 3, 5, 3, 9, 3, 5, 0, 0, 8, 8, 0, 8, 4, 4, 9,\n",
              "       1, 7, 1, 5, 3, 7, 8, 6, 2, 8, 8, 5, 5, 7, 9, 7, 9, 3, 0, 1, 4, 0,\n",
              "       5, 7, 8, 1, 5, 0, 9, 3, 2, 5, 1, 3, 2, 4, 2, 5, 0, 4, 9, 0, 0, 1,\n",
              "       8, 0, 2, 0, 3, 3, 4, 9, 7, 2, 3, 9, 6, 5, 6, 2, 1, 7, 7, 3, 8, 6,\n",
              "       7, 7, 3, 3, 8, 2, 5, 0, 9, 1, 6, 8, 0, 2, 5, 4, 0, 9, 3, 4, 5, 1,\n",
              "       0, 4, 4, 3, 8, 9, 4, 7, 3, 4, 8, 6, 2, 7, 2, 1, 9, 3, 0, 1, 3, 5,\n",
              "       2, 6, 9, 0, 0, 4, 5, 0, 2, 6, 4, 4, 9, 0, 0, 1, 9, 0, 5, 1, 8, 0,\n",
              "       9, 1, 9, 9, 0, 5, 8, 9, 0, 4, 8, 2, 6, 8, 9, 9, 5, 6, 2, 5, 1, 9,\n",
              "       3, 5, 9, 2, 7, 7, 3, 8, 2, 9, 7, 2, 0, 1, 6, 4, 1, 9, 7, 0, 4, 3,\n",
              "       9, 1, 6, 8, 6, 1, 2, 2, 4, 0, 4, 7, 2, 3, 5, 2, 2, 7, 6, 8, 7, 9,\n",
              "       8, 8, 6, 1, 3, 4, 0, 4, 1, 1, 4, 9, 7, 7, 5, 3, 1, 1, 0, 1, 8, 4,\n",
              "       8, 7, 7, 6, 4, 5, 9, 7, 3, 5, 8, 5, 3, 7, 9, 3, 1, 4, 0, 1, 9, 8,\n",
              "       0, 5, 8, 4, 9, 5, 7, 2, 9, 0, 4, 9, 6, 4, 0, 1, 0, 2, 2, 9, 2, 2,\n",
              "       0, 3, 4, 5, 1, 5, 1, 2, 8, 9, 8, 9, 5, 5, 6, 7, 6, 4, 8, 9, 9, 7,\n",
              "       6, 1, 8, 6, 9, 7, 8, 9, 2, 3, 9, 2, 8, 7, 1, 5, 4, 7, 1, 3, 0, 2,\n",
              "       6, 3, 1, 3, 8, 2, 1, 2])"
            ]
          },
          "metadata": {
            "tags": []
          },
          "execution_count": 16
        }
      ]
    },
    {
      "cell_type": "code",
      "metadata": {
        "id": "ONN2KDshPYpM",
        "colab_type": "code",
        "colab": {}
      },
      "source": [
        "from sklearn.metrics import accuracy_score"
      ],
      "execution_count": 0,
      "outputs": []
    },
    {
      "cell_type": "code",
      "metadata": {
        "id": "QCpAB6RePlu_",
        "colab_type": "code",
        "colab": {
          "base_uri": "https://localhost:8080/",
          "height": 33
        },
        "outputId": "ff36c20b-49e8-48b2-c2d7-f1d5114f97e7"
      },
      "source": [
        "accuracy_score(output,y)"
      ],
      "execution_count": 17,
      "outputs": [
        {
          "output_type": "execute_result",
          "data": {
            "text/plain": [
              "0.5"
            ]
          },
          "metadata": {
            "tags": []
          },
          "execution_count": 17
        }
      ]
    },
    {
      "cell_type": "code",
      "metadata": {
        "id": "l8BRZozEPoWx",
        "colab_type": "code",
        "colab": {}
      },
      "source": [
        ""
      ],
      "execution_count": 0,
      "outputs": []
    }
  ]
}