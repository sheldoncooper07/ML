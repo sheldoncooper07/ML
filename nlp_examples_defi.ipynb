{
  "nbformat": 4,
  "nbformat_minor": 0,
  "metadata": {
    "colab": {
      "name": "nlp_examples_defi.ipynb",
      "version": "0.3.2",
      "provenance": [],
      "collapsed_sections": [],
      "include_colab_link": true
    },
    "kernelspec": {
      "name": "python3",
      "display_name": "Python 3"
    }
  },
  "cells": [
    {
      "cell_type": "markdown",
      "metadata": {
        "id": "view-in-github",
        "colab_type": "text"
      },
      "source": [
        "<a href=\"https://colab.research.google.com/github/sheldoncooper07/Machine-Learning/blob/master/nlp_examples_defi.ipynb\" target=\"_parent\"><img src=\"https://colab.research.google.com/assets/colab-badge.svg\" alt=\"Open In Colab\"/></a>"
      ]
    },
    {
      "cell_type": "code",
      "metadata": {
        "id": "0Dk2gLPdgUwm",
        "colab_type": "code",
        "colab": {
          "base_uri": "https://localhost:8080/",
          "height": 67
        },
        "outputId": "61431368-f363-4e6b-bee5-c7c6b5fa4104"
      },
      "source": [
        "from nltk.corpus import wordnet\n",
        "import nltk\n",
        "nltk.download('wordnet')\n",
        " "
      ],
      "execution_count": 4,
      "outputs": [
        {
          "output_type": "stream",
          "text": [
            "[nltk_data] Downloading package wordnet to /root/nltk_data...\n",
            "[nltk_data]   Unzipping corpora/wordnet.zip.\n"
          ],
          "name": "stdout"
        },
        {
          "output_type": "execute_result",
          "data": {
            "text/plain": [
              "True"
            ]
          },
          "metadata": {
            "tags": []
          },
          "execution_count": 4
        }
      ]
    },
    {
      "cell_type": "code",
      "metadata": {
        "id": "cnTWR0wbgdNt",
        "colab_type": "code",
        "colab": {}
      },
      "source": [
        "ws=wordnet.synsets('work') #lemma word pass"
      ],
      "execution_count": 0,
      "outputs": []
    },
    {
      "cell_type": "code",
      "metadata": {
        "id": "ThV8bA05glKv",
        "colab_type": "code",
        "colab": {
          "base_uri": "https://localhost:8080/",
          "height": 34
        },
        "outputId": "3b503232-45bd-466a-edec-52fd081aa4cf"
      },
      "source": [
        "len(ws)"
      ],
      "execution_count": 9,
      "outputs": [
        {
          "output_type": "execute_result",
          "data": {
            "text/plain": [
              "34"
            ]
          },
          "metadata": {
            "tags": []
          },
          "execution_count": 9
        }
      ]
    },
    {
      "cell_type": "code",
      "metadata": {
        "id": "rIzSucx-g2Rr",
        "colab_type": "code",
        "colab": {
          "base_uri": "https://localhost:8080/",
          "height": 34
        },
        "outputId": "2c7241e8-4bd0-4b46-ea00-82dc4889f7f2"
      },
      "source": [
        "ws[0].definition()"
      ],
      "execution_count": 10,
      "outputs": [
        {
          "output_type": "execute_result",
          "data": {
            "text/plain": [
              "'activity directed toward making or doing something'"
            ]
          },
          "metadata": {
            "tags": []
          },
          "execution_count": 10
        }
      ]
    },
    {
      "cell_type": "code",
      "metadata": {
        "id": "y2ye-Zlyg8Jj",
        "colab_type": "code",
        "colab": {
          "base_uri": "https://localhost:8080/",
          "height": 34
        },
        "outputId": "683d1624-c2c9-468e-fae3-73cfb00d61bf"
      },
      "source": [
        "ws[1].definition()"
      ],
      "execution_count": 11,
      "outputs": [
        {
          "output_type": "execute_result",
          "data": {
            "text/plain": [
              "'a product produced or accomplished through the effort or activity or agency of a person or thing'"
            ]
          },
          "metadata": {
            "tags": []
          },
          "execution_count": 11
        }
      ]
    },
    {
      "cell_type": "code",
      "metadata": {
        "id": "J1j_5p4WhCnf",
        "colab_type": "code",
        "colab": {
          "base_uri": "https://localhost:8080/",
          "height": 34
        },
        "outputId": "cec9d88e-55c9-4c0b-9f4b-a20c2311ff2b"
      },
      "source": [
        "ws[0].examples()"
      ],
      "execution_count": 13,
      "outputs": [
        {
          "output_type": "execute_result",
          "data": {
            "text/plain": [
              "['she checked several points needing further work']"
            ]
          },
          "metadata": {
            "tags": []
          },
          "execution_count": 13
        }
      ]
    },
    {
      "cell_type": "code",
      "metadata": {
        "id": "XrGgm-WLhGDy",
        "colab_type": "code",
        "colab": {
          "base_uri": "https://localhost:8080/",
          "height": 101
        },
        "outputId": "ddfb1c91-ea33-4373-cd91-ed484eab434a"
      },
      "source": [
        "ws[1].examples()"
      ],
      "execution_count": 14,
      "outputs": [
        {
          "output_type": "execute_result",
          "data": {
            "text/plain": [
              "['it is not regarded as one of his more memorable works',\n",
              " 'the symphony was hailed as an ingenious work',\n",
              " 'he was indebted to the pioneering work of John Dewey',\n",
              " 'the work of an active imagination',\n",
              " 'erosion is the work of wind or water over time']"
            ]
          },
          "metadata": {
            "tags": []
          },
          "execution_count": 14
        }
      ]
    },
    {
      "cell_type": "code",
      "metadata": {
        "id": "LRB2oIqNhKxy",
        "colab_type": "code",
        "colab": {
          "base_uri": "https://localhost:8080/",
          "height": 1000
        },
        "outputId": "54904cb6-039c-4ba6-c37a-da2ef3f7ce8f"
      },
      "source": [
        "#exploring all the book\n",
        "import time\n",
        "msg=input(\"enter your key word you want to know about :----\")\n",
        "for i in wordnet.synsets(msg): #this explore all the books according to stanford univ\n",
        "  print(\"--------------\")\n",
        "  print(i.definition())\n",
        "  print(\"-----------\")\n",
        "  print(i.examples())\n",
        "  time.sleep(1)"
      ],
      "execution_count": 17,
      "outputs": [
        {
          "output_type": "stream",
          "text": [
            "enter your key word you want to know about :----play\n",
            "--------------\n",
            "a dramatic work intended for performance by actors on a stage\n",
            "-----------\n",
            "['he wrote several plays but only one was produced on Broadway']\n",
            "--------------\n",
            "a theatrical performance of a drama\n",
            "-----------\n",
            "['the play lasted two hours']\n",
            "--------------\n",
            "a preset plan of action in team sports\n",
            "-----------\n",
            "['the coach drew up the plays for her team']\n",
            "--------------\n",
            "a deliberate coordinated movement requiring dexterity and skill\n",
            "-----------\n",
            "['he made a great maneuver', 'the runner was out on a play by the shortstop']\n",
            "--------------\n",
            "a state in which action is feasible\n",
            "-----------\n",
            "['the ball was still in play', \"insiders said the company's stock was in play\"]\n",
            "--------------\n",
            "utilization or exercise\n",
            "-----------\n",
            "['the play of the imagination']\n",
            "--------------\n",
            "an attempt to get something\n",
            "-----------\n",
            "['they made a futile play for power', 'he made a bid to gain attention']\n",
            "--------------\n",
            "activity by children that is guided more by imagination than by fixed rules\n",
            "-----------\n",
            "['Freud believed in the utility of play to a small child']\n",
            "--------------\n",
            "(in games or plays or other performances) the time during which play proceeds\n",
            "-----------\n",
            "['rain stopped play in the 4th inning']\n",
            "--------------\n",
            "the removal of constraints\n",
            "-----------\n",
            "['he gave free rein to his impulses', \"they gave full play to the artist's talent\"]\n",
            "--------------\n",
            "a weak and tremulous light\n",
            "-----------\n",
            "['the shimmer of colors on iridescent feathers', 'the play of light on the water']\n",
            "--------------\n",
            "verbal wit or mockery (often at another's expense but not to be taken seriously)\n",
            "-----------\n",
            "['he became a figure of fun', 'he said it in sport']\n",
            "--------------\n",
            "movement or space for movement\n",
            "-----------\n",
            "['there was too much play in the steering wheel']\n",
            "--------------\n",
            "gay or light-hearted recreational activity for diversion or amusement\n",
            "-----------\n",
            "['it was all done in play', 'their frolic in the surf threatened to become ugly']\n",
            "--------------\n",
            "(game) the activity of doing something in an agreed succession\n",
            "-----------\n",
            "['it is my turn', 'it is still my play']\n",
            "--------------\n",
            "the act of playing for stakes in the hope of winning (including the payment of a price for a chance to win a prize)\n",
            "-----------\n",
            "['his gambling cost him a fortune', 'there was heavy play at the blackjack table']\n",
            "--------------\n",
            "the act using a sword (or other weapon) vigorously and skillfully\n",
            "-----------\n",
            "[]\n",
            "--------------\n",
            "participate in games or sport\n",
            "-----------\n",
            "['We played hockey all afternoon', 'play cards', 'Pele played for the Brazilian teams in many important matches']\n",
            "--------------\n",
            "act or have an effect in a specified way or with a specific effect or outcome\n",
            "-----------\n",
            "['This factor played only a minor part in his decision', 'This development played into her hands', 'I played no role in your dismissal']\n",
            "--------------\n",
            "play on an instrument\n",
            "-----------\n",
            "['The band played all night long']\n",
            "--------------\n",
            "play a role or part\n",
            "-----------\n",
            "['Gielgud played Hamlet', 'She wants to act Lady Macbeth, but she is too young for the role', \"She played the servant to her husband's master\"]\n",
            "--------------\n",
            "be at play; be engaged in playful activity; amuse oneself in a way characteristic of children\n",
            "-----------\n",
            "['The kids were playing outside all day', 'I used to play with trucks as a little girl']\n",
            "--------------\n",
            "replay (as a melody)\n",
            "-----------\n",
            "['Play it again, Sam', 'She played the third movement very beautifully']\n",
            "--------------\n",
            "perform music on (a musical instrument)\n",
            "-----------\n",
            "['He plays the flute', 'Can you play on this old recorder?']\n",
            "--------------\n",
            "pretend to have certain qualities or state of mind\n",
            "-----------\n",
            "['He acted the idiot', 'She plays deaf when the news are bad']\n",
            "--------------\n",
            "move or seem to move quickly, lightly, or irregularly\n",
            "-----------\n",
            "['The spotlights played on the politicians']\n",
            "--------------\n",
            "bet or wager (money)\n",
            "-----------\n",
            "['He played $20 on the new horse', 'She plays the races']\n",
            "--------------\n",
            "engage in recreational activities rather than work; occupy oneself in a diversion\n",
            "-----------\n",
            "['On weekends I play', 'The students all recreate alike']\n",
            "--------------\n",
            "pretend to be somebody in the framework of a game or playful activity\n",
            "-----------\n",
            "[\"Let's play like I am mommy\", 'Play cowboy and Indians']\n",
            "--------------\n",
            "emit recorded sound\n",
            "-----------\n",
            "['The tape was playing for hours', 'the stereo was playing Beethoven when I entered']\n",
            "--------------\n",
            "perform on a certain location\n",
            "-----------\n",
            "['The prodigy played Carnegie Hall at the age of 16', 'She has been playing on Broadway for years']\n",
            "--------------\n",
            "put (a card or piece) into play during a game, or act strategically as if in a card game\n",
            "-----------\n",
            "['He is playing his cards close to his chest', 'The Democrats still have some cards to play before they will concede the electoral victory']\n",
            "--------------\n",
            "engage in an activity as if it were a game rather than take it seriously\n",
            "-----------\n",
            "['They played games on their opponents', 'play the stock market', 'play with her feelings', 'toy with an idea']\n",
            "--------------\n",
            "behave in a certain way\n",
            "-----------\n",
            "['play safe', 'play it safe', 'play fair']\n",
            "--------------\n",
            "cause to emit recorded audio or video\n",
            "-----------\n",
            "['They ran the tapes over and over again', \"I'll play you my favorite record\", 'He never tires of playing that video']\n",
            "--------------\n",
            "manipulate manually or in one's mind or imagination\n",
            "-----------\n",
            "['She played nervously with her wedding ring', \"Don't fiddle with the screws\", 'He played with the idea of running for the Senate']\n",
            "--------------\n",
            "use to one's advantage\n",
            "-----------\n",
            "[\"She plays on her clients' emotions\"]\n",
            "--------------\n",
            "consider not very seriously\n",
            "-----------\n",
            "['He is trifling with her', 'She plays with the thought of moving to Tasmania']\n",
            "--------------\n",
            "be received or accepted or interpreted in a specific way\n",
            "-----------\n",
            "[\"This speech didn't play well with the American public\", 'His remarks played to the suspicions of the committee']\n",
            "--------------\n",
            "behave carelessly or indifferently\n",
            "-----------\n",
            "[\"Play about with a young girl's affection\"]\n",
            "--------------\n",
            "cause to move or operate freely within a bounded space\n",
            "-----------\n",
            "['The engine has a wheel that is playing in a rack']\n",
            "--------------\n",
            "perform on a stage or theater\n",
            "-----------\n",
            "['She acts in this play', \"He acted in `Julius Caesar'\", \"I played in `A Christmas Carol'\"]\n",
            "--------------\n",
            "be performed or presented for public viewing\n",
            "-----------\n",
            "[\"What's playing in the local movie theater?\", \"`Cats' has been playing on Broadway for many years\"]\n",
            "--------------\n",
            "cause to happen or to occur as a consequence\n",
            "-----------\n",
            "['I cannot work a miracle', 'wreak havoc', 'bring comments', 'play a joke', 'The rain brought relief to the drought-stricken area']\n",
            "--------------\n",
            "discharge or direct or be discharged or directed as if in a continuous stream\n",
            "-----------\n",
            "['play water from a hose', 'The fountains played all day']\n",
            "--------------\n",
            "make bets\n",
            "-----------\n",
            "['Play the races', 'play the casinos in Trouville']\n",
            "--------------\n",
            "stake on the outcome of an issue\n",
            "-----------\n",
            "['I bet $100 on that new horse', 'She played all her money on the dark horse']\n",
            "--------------\n",
            "shoot or hit in a particular manner\n",
            "-----------\n",
            "['She played a good backhand last night']\n",
            "--------------\n",
            "use or move\n",
            "-----------\n",
            "['I had to play my queen']\n",
            "--------------\n",
            "employ in a game or in a specific position\n",
            "-----------\n",
            "['They played him on first base']\n",
            "--------------\n",
            "contend against an opponent in a sport, game, or battle\n",
            "-----------\n",
            "['Princeton plays Yale this weekend', 'Charlie likes to play Mary']\n",
            "--------------\n",
            "exhaust by allowing to pull on the line\n",
            "-----------\n",
            "['play a hooked fish']\n"
          ],
          "name": "stdout"
        }
      ]
    },
    {
      "cell_type": "code",
      "metadata": {
        "id": "qNrzTWcdilnA",
        "colab_type": "code",
        "colab": {}
      },
      "source": [
        ""
      ],
      "execution_count": 0,
      "outputs": []
    }
  ]
}